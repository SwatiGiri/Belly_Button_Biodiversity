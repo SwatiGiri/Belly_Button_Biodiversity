{
 "cells": [
  {
   "cell_type": "code",
   "execution_count": 78,
   "metadata": {
    "collapsed": true
   },
   "outputs": [],
   "source": [
    "# %load app.py\n",
    "# import necessary libraries\n",
    "import os\n",
    "from flask import (\n",
    "    Flask,\n",
    "    render_template,\n",
    "    jsonify,\n",
    "    request,\n",
    "    redirect)\n",
    "from sqlalchemy import MetaData\n",
    "from sqlalchemy import inspect\n",
    "from sqlalchemy import Table"
   ]
  },
  {
   "cell_type": "code",
   "execution_count": 22,
   "metadata": {},
   "outputs": [
    {
     "name": "stderr",
     "output_type": "stream",
     "text": [
      "C:\\ProgramData\\Anaconda3\\lib\\site-packages\\flask_sqlalchemy\\__init__.py:794: FSADeprecationWarning: SQLALCHEMY_TRACK_MODIFICATIONS adds significant overhead and will be disabled by default in the future.  Set it to True or False to suppress this warning.\n",
      "  'SQLALCHEMY_TRACK_MODIFICATIONS adds significant overhead and '\n"
     ]
    }
   ],
   "source": [
    "#################################################\n",
    "# Flask Setup\n",
    "#################################################\n",
    "app = Flask(__name__)\n",
    "\n",
    "from flask_sqlalchemy import SQLAlchemy\n",
    "app.config['SQLALCHEMY_DATABASE_URI'] = \"sqlite:///Datasets/belly_button_biodiversity.sqlite\"\n",
    "db = SQLAlchemy(app)"
   ]
  },
  {
   "cell_type": "markdown",
   "metadata": {},
   "source": [
    "# TESTING"
   ]
  },
  {
   "cell_type": "code",
   "execution_count": 16,
   "metadata": {},
   "outputs": [],
   "source": [
    "db.Model.metadata.reflect(db.engine)"
   ]
  },
  {
   "cell_type": "code",
   "execution_count": 64,
   "metadata": {},
   "outputs": [
    {
     "name": "stdout",
     "output_type": "stream",
     "text": [
      "['otu', 'samples', 'samples_metadata']\n"
     ]
    }
   ],
   "source": [
    "print(db.engine.table_names())"
   ]
  },
  {
   "cell_type": "code",
   "execution_count": 83,
   "metadata": {},
   "outputs": [],
   "source": [
    "# got metadata to work\n",
    "metadata = MetaData()\n",
    "metadata.reflect(bind=db.engine)"
   ]
  },
  {
   "cell_type": "code",
   "execution_count": 85,
   "metadata": {},
   "outputs": [
    {
     "name": "stdout",
     "output_type": "stream",
     "text": [
      "table otu\n",
      "table samples\n",
      "table samples_metadata\n"
     ]
    }
   ],
   "source": [
    "for t in metadata.tables:\n",
    "    print(\"table\", t)"
   ]
  },
  {
   "cell_type": "code",
   "execution_count": 111,
   "metadata": {
    "scrolled": true
   },
   "outputs": [
    {
     "data": {
      "text/plain": [
       "Table('samples', MetaData(bind=None), Column('otu_id', INTEGER(), table=<samples>, primary_key=True, nullable=False), Column('BB_940', INTEGER(), table=<samples>), Column('BB_941', INTEGER(), table=<samples>), Column('BB_943', INTEGER(), table=<samples>), Column('BB_944', INTEGER(), table=<samples>), Column('BB_945', INTEGER(), table=<samples>), Column('BB_946', INTEGER(), table=<samples>), Column('BB_947', INTEGER(), table=<samples>), Column('BB_948', INTEGER(), table=<samples>), Column('BB_949', INTEGER(), table=<samples>), Column('BB_950', INTEGER(), table=<samples>), Column('BB_952', INTEGER(), table=<samples>), Column('BB_953', INTEGER(), table=<samples>), Column('BB_954', INTEGER(), table=<samples>), Column('BB_955', INTEGER(), table=<samples>), Column('BB_956', INTEGER(), table=<samples>), Column('BB_958', INTEGER(), table=<samples>), Column('BB_959', INTEGER(), table=<samples>), Column('BB_960', INTEGER(), table=<samples>), Column('BB_961', INTEGER(), table=<samples>), Column('BB_962', INTEGER(), table=<samples>), Column('BB_963', INTEGER(), table=<samples>), Column('BB_964', INTEGER(), table=<samples>), Column('BB_966', INTEGER(), table=<samples>), Column('BB_967', INTEGER(), table=<samples>), Column('BB_968', INTEGER(), table=<samples>), Column('BB_969', INTEGER(), table=<samples>), Column('BB_970', INTEGER(), table=<samples>), Column('BB_971', INTEGER(), table=<samples>), Column('BB_972', INTEGER(), table=<samples>), Column('BB_973', INTEGER(), table=<samples>), Column('BB_974', INTEGER(), table=<samples>), Column('BB_975', INTEGER(), table=<samples>), Column('BB_978', INTEGER(), table=<samples>), Column('BB_1233', INTEGER(), table=<samples>), Column('BB_1234', INTEGER(), table=<samples>), Column('BB_1235', INTEGER(), table=<samples>), Column('BB_1236', INTEGER(), table=<samples>), Column('BB_1237', INTEGER(), table=<samples>), Column('BB_1238', INTEGER(), table=<samples>), Column('BB_1242', INTEGER(), table=<samples>), Column('BB_1243', INTEGER(), table=<samples>), Column('BB_1246', INTEGER(), table=<samples>), Column('BB_1253', INTEGER(), table=<samples>), Column('BB_1254', INTEGER(), table=<samples>), Column('BB_1258', INTEGER(), table=<samples>), Column('BB_1259', INTEGER(), table=<samples>), Column('BB_1260', INTEGER(), table=<samples>), Column('BB_1264', INTEGER(), table=<samples>), Column('BB_1265', INTEGER(), table=<samples>), Column('BB_1273', INTEGER(), table=<samples>), Column('BB_1275', INTEGER(), table=<samples>), Column('BB_1276', INTEGER(), table=<samples>), Column('BB_1277', INTEGER(), table=<samples>), Column('BB_1278', INTEGER(), table=<samples>), Column('BB_1279', INTEGER(), table=<samples>), Column('BB_1280', INTEGER(), table=<samples>), Column('BB_1281', INTEGER(), table=<samples>), Column('BB_1282', INTEGER(), table=<samples>), Column('BB_1283', INTEGER(), table=<samples>), Column('BB_1284', INTEGER(), table=<samples>), Column('BB_1285', INTEGER(), table=<samples>), Column('BB_1286', INTEGER(), table=<samples>), Column('BB_1287', INTEGER(), table=<samples>), Column('BB_1288', INTEGER(), table=<samples>), Column('BB_1289', INTEGER(), table=<samples>), Column('BB_1290', INTEGER(), table=<samples>), Column('BB_1291', INTEGER(), table=<samples>), Column('BB_1292', INTEGER(), table=<samples>), Column('BB_1293', INTEGER(), table=<samples>), Column('BB_1294', INTEGER(), table=<samples>), Column('BB_1295', INTEGER(), table=<samples>), Column('BB_1296', INTEGER(), table=<samples>), Column('BB_1297', INTEGER(), table=<samples>), Column('BB_1298', INTEGER(), table=<samples>), Column('BB_1308', INTEGER(), table=<samples>), Column('BB_1309', INTEGER(), table=<samples>), Column('BB_1310', INTEGER(), table=<samples>), Column('BB_1374', INTEGER(), table=<samples>), Column('BB_1415', INTEGER(), table=<samples>), Column('BB_1439', INTEGER(), table=<samples>), Column('BB_1441', INTEGER(), table=<samples>), Column('BB_1443', INTEGER(), table=<samples>), Column('BB_1486', INTEGER(), table=<samples>), Column('BB_1487', INTEGER(), table=<samples>), Column('BB_1489', INTEGER(), table=<samples>), Column('BB_1490', INTEGER(), table=<samples>), Column('BB_1491', INTEGER(), table=<samples>), Column('BB_1494', INTEGER(), table=<samples>), Column('BB_1495', INTEGER(), table=<samples>), Column('BB_1497', INTEGER(), table=<samples>), Column('BB_1499', INTEGER(), table=<samples>), Column('BB_1500', INTEGER(), table=<samples>), Column('BB_1501', INTEGER(), table=<samples>), Column('BB_1502', INTEGER(), table=<samples>), Column('BB_1503', INTEGER(), table=<samples>), Column('BB_1504', INTEGER(), table=<samples>), Column('BB_1505', INTEGER(), table=<samples>), Column('BB_1506', INTEGER(), table=<samples>), Column('BB_1507', INTEGER(), table=<samples>), Column('BB_1508', INTEGER(), table=<samples>), Column('BB_1510', INTEGER(), table=<samples>), Column('BB_1511', INTEGER(), table=<samples>), Column('BB_1512', INTEGER(), table=<samples>), Column('BB_1513', INTEGER(), table=<samples>), Column('BB_1514', INTEGER(), table=<samples>), Column('BB_1515', INTEGER(), table=<samples>), Column('BB_1516', INTEGER(), table=<samples>), Column('BB_1517', INTEGER(), table=<samples>), Column('BB_1518', INTEGER(), table=<samples>), Column('BB_1519', INTEGER(), table=<samples>), Column('BB_1521', INTEGER(), table=<samples>), Column('BB_1524', INTEGER(), table=<samples>), Column('BB_1526', INTEGER(), table=<samples>), Column('BB_1527', INTEGER(), table=<samples>), Column('BB_1530', INTEGER(), table=<samples>), Column('BB_1531', INTEGER(), table=<samples>), Column('BB_1532', INTEGER(), table=<samples>), Column('BB_1533', INTEGER(), table=<samples>), Column('BB_1534', INTEGER(), table=<samples>), Column('BB_1535', INTEGER(), table=<samples>), Column('BB_1536', INTEGER(), table=<samples>), Column('BB_1537', INTEGER(), table=<samples>), Column('BB_1539', INTEGER(), table=<samples>), Column('BB_1540', INTEGER(), table=<samples>), Column('BB_1541', INTEGER(), table=<samples>), Column('BB_1542', INTEGER(), table=<samples>), Column('BB_1543', INTEGER(), table=<samples>), Column('BB_1544', INTEGER(), table=<samples>), Column('BB_1545', INTEGER(), table=<samples>), Column('BB_1546', INTEGER(), table=<samples>), Column('BB_1547', INTEGER(), table=<samples>), Column('BB_1548', INTEGER(), table=<samples>), Column('BB_1549', INTEGER(), table=<samples>), Column('BB_1550', INTEGER(), table=<samples>), Column('BB_1551', INTEGER(), table=<samples>), Column('BB_1552', INTEGER(), table=<samples>), Column('BB_1553', INTEGER(), table=<samples>), Column('BB_1554', INTEGER(), table=<samples>), Column('BB_1555', INTEGER(), table=<samples>), Column('BB_1556', INTEGER(), table=<samples>), Column('BB_1557', INTEGER(), table=<samples>), Column('BB_1558', INTEGER(), table=<samples>), Column('BB_1561', INTEGER(), table=<samples>), Column('BB_1562', INTEGER(), table=<samples>), Column('BB_1563', INTEGER(), table=<samples>), Column('BB_1564', INTEGER(), table=<samples>), Column('BB_1572', INTEGER(), table=<samples>), Column('BB_1573', INTEGER(), table=<samples>), Column('BB_1574', INTEGER(), table=<samples>), Column('BB_1576', INTEGER(), table=<samples>), Column('BB_1577', INTEGER(), table=<samples>), Column('BB_1581', INTEGER(), table=<samples>), Column('BB_1601', INTEGER(), table=<samples>), schema=None)"
      ]
     },
     "execution_count": 111,
     "metadata": {},
     "output_type": "execute_result"
    }
   ],
   "source": [
    "samples = metadata.tables['samples']\n",
    "samples"
   ]
  },
  {
   "cell_type": "code",
   "execution_count": 117,
   "metadata": {},
   "outputs": [
    {
     "ename": "TypeError",
     "evalue": "'Table' object does not support indexing",
     "output_type": "error",
     "traceback": [
      "\u001b[1;31m---------------------------------------------------------------------------\u001b[0m",
      "\u001b[1;31mTypeError\u001b[0m                                 Traceback (most recent call last)",
      "\u001b[1;32m<ipython-input-117-3e1a40075790>\u001b[0m in \u001b[0;36m<module>\u001b[1;34m()\u001b[0m\n\u001b[0;32m      1\u001b[0m \u001b[1;31m# res = db.session.query(samples)\u001b[0m\u001b[1;33m\u001b[0m\u001b[1;33m\u001b[0m\u001b[0m\n\u001b[0;32m      2\u001b[0m \u001b[1;31m# print(res[0].keys())\u001b[0m\u001b[1;33m\u001b[0m\u001b[1;33m\u001b[0m\u001b[0m\n\u001b[1;32m----> 3\u001b[1;33m \u001b[0msamples\u001b[0m\u001b[1;33m[\u001b[0m\u001b[1;36m0\u001b[0m\u001b[1;33m]\u001b[0m\u001b[1;33m\u001b[0m\u001b[0m\n\u001b[0m",
      "\u001b[1;31mTypeError\u001b[0m: 'Table' object does not support indexing"
     ]
    }
   ],
   "source": [
    "res = db.session.query(samples)\n",
    "print(res[0].keys())"
   ]
  },
  {
   "cell_type": "code",
   "execution_count": 72,
   "metadata": {},
   "outputs": [],
   "source": [
    "# successful in getting data using inspector\n",
    "inspector = inspect(db.engine)"
   ]
  },
  {
   "cell_type": "code",
   "execution_count": 73,
   "metadata": {},
   "outputs": [
    {
     "name": "stdout",
     "output_type": "stream",
     "text": [
      "['otu', 'samples', 'samples_metadata']\n"
     ]
    }
   ],
   "source": [
    "print(inspector.get_table_names())"
   ]
  },
  {
   "cell_type": "code",
   "execution_count": 82,
   "metadata": {},
   "outputs": [
    {
     "ename": "AttributeError",
     "evalue": "'Inspector' object has no attribute 'get_column'",
     "output_type": "error",
     "traceback": [
      "\u001b[1;31m---------------------------------------------------------------------------\u001b[0m",
      "\u001b[1;31mAttributeError\u001b[0m                            Traceback (most recent call last)",
      "\u001b[1;32m<ipython-input-82-a4a9a2de05c9>\u001b[0m in \u001b[0;36m<module>\u001b[1;34m()\u001b[0m\n\u001b[1;32m----> 1\u001b[1;33m \u001b[0mprint\u001b[0m\u001b[1;33m(\u001b[0m\u001b[0minspector\u001b[0m\u001b[1;33m.\u001b[0m\u001b[0mget_column\u001b[0m\u001b[1;33m(\u001b[0m\u001b[1;34m'samples'\u001b[0m\u001b[1;33m)\u001b[0m\u001b[1;33m)\u001b[0m\u001b[1;33m\u001b[0m\u001b[0m\n\u001b[0m",
      "\u001b[1;31mAttributeError\u001b[0m: 'Inspector' object has no attribute 'get_column'"
     ]
    }
   ],
   "source": [
    "print(inspector.get_columns('samples'))"
   ]
  },
  {
   "cell_type": "code",
   "execution_count": 79,
   "metadata": {},
   "outputs": [
    {
     "name": "stdout",
     "output_type": "stream",
     "text": [
      "immutabledict({})\n"
     ]
    }
   ],
   "source": [
    "print(metadata.tables)"
   ]
  },
  {
   "cell_type": "markdown",
   "metadata": {},
   "source": [
    "# TESTING END"
   ]
  },
  {
   "cell_type": "markdown",
   "metadata": {},
   "source": [
    "# ACTUAL FLASK APP"
   ]
  },
  {
   "cell_type": "code",
   "execution_count": 77,
   "metadata": {
    "scrolled": true
   },
   "outputs": [
    {
     "ename": "SyntaxError",
     "evalue": "unexpected EOF while parsing (<ipython-input-77-913edbc8e924>, line 5)",
     "output_type": "error",
     "traceback": [
      "\u001b[1;36m  File \u001b[1;32m\"<ipython-input-77-913edbc8e924>\"\u001b[1;36m, line \u001b[1;32m5\u001b[0m\n\u001b[1;33m    \u001b[0m\n\u001b[1;37m    ^\u001b[0m\n\u001b[1;31mSyntaxError\u001b[0m\u001b[1;31m:\u001b[0m unexpected EOF while parsing\n"
     ]
    }
   ],
   "source": [
    "@app.route(\"/\")\n",
    "def home():\n",
    "    return render_template(\"index.html\")"
   ]
  },
  {
   "cell_type": "code",
   "execution_count": null,
   "metadata": {
    "collapsed": true
   },
   "outputs": [],
   "source": [
    "@app.route(\"/names\")\n",
    "def get_otu_ids():\n",
    "    # defining metatdata\n",
    "    metadata = MetaData()\n",
    "    metadata.reflect(bind=db.engine)\n",
    "    # getting the samples table     \n",
    "    samples = metadata.tables['samples']\n",
    "    # getting     \n",
    "    res = db.session.query(samples)\n",
    "    return res[0].keys()"
   ]
  },
  {
   "cell_type": "code",
   "execution_count": null,
   "metadata": {
    "collapsed": true
   },
   "outputs": [],
   "source": []
  }
 ],
 "metadata": {
  "kernelspec": {
   "display_name": "Python [default]",
   "language": "python",
   "name": "python3"
  },
  "language_info": {
   "codemirror_mode": {
    "name": "ipython",
    "version": 3
   },
   "file_extension": ".py",
   "mimetype": "text/x-python",
   "name": "python",
   "nbconvert_exporter": "python",
   "pygments_lexer": "ipython3",
   "version": "3.6.3"
  }
 },
 "nbformat": 4,
 "nbformat_minor": 2
}
